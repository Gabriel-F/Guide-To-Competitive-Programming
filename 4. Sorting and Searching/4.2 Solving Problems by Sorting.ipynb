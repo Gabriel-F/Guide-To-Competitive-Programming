{
 "cells": [
  {
   "cell_type": "code",
   "execution_count": 7,
   "metadata": {},
   "outputs": [],
   "source": [
    "#include <iostream>\n",
    "#include <vector>\n",
    "#include <algorithm>\n",
    "#include <utility>\n",
    "\n",
    "using namespace std;"
   ]
  },
  {
   "cell_type": "markdown",
   "metadata": {},
   "source": [
    "<h1> Solving Problems by Sorting</h1>"
   ]
  },
  {
   "cell_type": "markdown",
   "metadata": {},
   "source": [
    "Often, we can easily solve a problme in _O_($nˆ{2}$) time using bruteforce algorithm.\n",
    "But a frequent goal is to find _O_($n$) or _O_($n logn$) time algorithms. Sorting is one way to acheive this goal"
   ]
  },
  {
   "cell_type": "markdown",
   "metadata": {},
   "source": [
    "For example, suppose that we want to check if all elements in ana array are unique."
   ]
  },
  {
   "cell_type": "markdown",
   "metadata": {},
   "source": [
    "A brute force algorithm goes through all pairs of elements in _O_($n^{2}$)"
   ]
  },
  {
   "cell_type": "code",
   "execution_count": null,
   "metadata": {},
   "outputs": [],
   "source": [
    "bool ok = true;\n",
    "\n",
    "for(int i = 0; i < n; i++){\n",
    "    for(int j = 0; j < n; j++){\n",
    "        if(array[i] == array[j]) ok = false;\n",
    "    }\n",
    "}"
   ]
  },
  {
   "cell_type": "markdown",
   "metadata": {},
   "source": [
    "However we can solve the problem in _O_($n log n$) time by first sorting the array. Then check if the adjacent element in the array is equal or not (_O_($n$))"
   ]
  },
  {
   "cell_type": "code",
   "execution_count": null,
   "metadata": {},
   "outputs": [],
   "source": [
    "bool ok = true;\n",
    "sort(array, array+n); // using int array[] not vector\n",
    "for(int i = 0; i < n-1; i++){\n",
    "    if(array[i] == arra[i+1]) ok = false;\n",
    "}"
   ]
  },
  {
   "cell_type": "markdown",
   "metadata": {},
   "source": [
    "Several other problems can be solved in a similar way, such as counting the number of distinct elements, finding the most frequent element, and finding two elements whose difference is minimum"
   ]
  },
  {
   "cell_type": "markdown",
   "metadata": {},
   "source": []
  },
  {
   "cell_type": "markdown",
   "metadata": {},
   "source": [
    "<h2> Sweep Line Algorithms </h2>"
   ]
  },
  {
   "cell_type": "markdown",
   "metadata": {},
   "source": [
    "A sweep line algorithm models a problem as a set of events that are processed in a sorted order."
   ]
  },
  {
   "cell_type": "markdown",
   "metadata": {},
   "source": [
    "For example, suppose that ther is a restaurant and we know the arriving and leaving times of all customers on a certain day. Our task is to find out the maximum number of customers who visited the restaurant at the same time."
   ]
  },
  {
   "cell_type": "markdown",
   "metadata": {},
   "source": [
    "<img src=\"img/SweepLineAlgorithm.png\" style=\"width:381px;height:185px\" />"
   ]
  },
  {
   "cell_type": "markdown",
   "metadata": {},
   "source": [
    "To solve the problem we create two events for each customer: one event of arrival and another for leaving. Then, we sort the events and go through them according to their times. To find the maximum number of customers, we maintain a counter whose value increases when a customer arrives and decreases when a custome leaves. The largest value of this counter is the to the problem."
   ]
  },
  {
   "cell_type": "markdown",
   "metadata": {},
   "source": [
    "<h2> Scheduling Events </h2>"
   ]
  },
  {
   "cell_type": "markdown",
   "metadata": {},
   "source": [
    "Many scheduling problems can be solved by sorting the input data and the using a greedy strategy to cosntruct a solution. A greedy algorithm always makes a choice that looks the best at the moment and never takes back its choices."
   ]
  },
  {
   "cell_type": "markdown",
   "metadata": {},
   "source": [
    "As an example, consider the following problem: Given _n_ events with ther starting and ending times, find a schedule of the problem where an optimal solution is to select two events."
   ]
  },
  {
   "cell_type": "markdown",
   "metadata": {},
   "source": [
    "In this problme, there are several ways how we could sort the input dat. One strategy is to sort the events according to ther lengths and select as short events as possible. However, this stratey does not always work, as show in the figure below"
   ]
  },
  {
   "cell_type": "markdown",
   "metadata": {},
   "source": [
    "<img src=\"img/ShortEvent.png\"/>"
   ]
  },
  {
   "cell_type": "markdown",
   "metadata": {},
   "source": [
    "Another ideas is to sort the events according to ther starting times and always select the next possible event that begins as early as possible. However, we can find a counterexample also for this strategy, shown in figure below"
   ]
  },
  {
   "cell_type": "markdown",
   "metadata": {},
   "source": [
    "<img src=\"img/EarlyEvent.png\"/>"
   ]
  },
  {
   "cell_type": "markdown",
   "metadata": {},
   "source": [
    "A third idea is to sort the events according to ther **ending times** and always select the next possible events that ends as ealy as possible. It turns out that this algorithm always produces an optimal solution."
   ]
  },
  {
   "cell_type": "markdown",
   "metadata": {},
   "source": [
    "<h5> Justify </h5>"
   ]
  },
  {
   "cell_type": "markdown",
   "metadata": {},
   "source": [
    "There is a formal proof... But this is my \"proof\""
   ]
  },
  {
   "cell_type": "markdown",
   "metadata": {},
   "source": [
    "O problema quer maximizar o numero de eventos para um calendario, ou seja quer o maior numero de eventos possiveis num espaco de tempo."
   ]
  },
  {
   "cell_type": "markdown",
   "metadata": {},
   "source": [
    "A intuição diz para escolhermos os menores eventos, porém foi refutado."
   ]
  },
  {
   "cell_type": "markdown",
   "metadata": {},
   "source": [
    "Mas o certo é escolher eventos que terminam o mais cedo possível pos abre espaço para novos eventos."
   ]
  },
  {
   "cell_type": "markdown",
   "metadata": {},
   "source": [
    "A intuição de escolher os menores eventos está errada pois ao escolhermos os menores, não levamos em consideração o tempo, a escolha dos que terminam mais cedo é lógica, pois é o mais curto em um determindo tempo."
   ]
  },
  {
   "cell_type": "markdown",
   "metadata": {},
   "source": [
    "https://www.youtube.com/watch?v=hVhOeaONg1Y"
   ]
  },
  {
   "cell_type": "markdown",
   "metadata": {},
   "source": [
    "<h2> Task and Deadlines </h2>"
   ]
  },
  {
   "cell_type": "markdown",
   "metadata": {},
   "source": [
    "Consider a problem where we are given _n_ tasks with duration and deadlines and our task is to choose an order to eprform the tasks. For each task, we earn _d - x_ points where _d_ is the task's deadline and _x_ is the moment when we finish the task."
   ]
  },
  {
   "cell_type": "markdown",
   "metadata": {},
   "source": [
    "What is the larges possible total score we can obtain?"
   ]
  },
  {
   "cell_type": "markdown",
   "metadata": {},
   "source": [
    "The solution doesnt depend on the deadlines, but a correct greedy strategy is to simply perform the tasks _sorted by their duration_ in increasing order."
   ]
  },
  {
   "cell_type": "markdown",
   "metadata": {},
   "source": [
    "The reason for this is that if we ever perform two tasks one after another such that the first task longer than the second task, we can obtain a better solution if we swap the tasks"
   ]
  },
  {
   "cell_type": "markdown",
   "metadata": {},
   "source": [
    "<img src=\"img/Tasks.png\" width=\"300px\"/>"
   ]
  },
  {
   "cell_type": "markdown",
   "metadata": {},
   "source": [
    "ft = First Task"
   ]
  },
  {
   "cell_type": "markdown",
   "metadata": {},
   "source": [
    "lt = Last Task"
   ]
  },
  {
   "cell_type": "markdown",
   "metadata": {},
   "source": [
    "dft = Deadline of first task"
   ]
  },
  {
   "cell_type": "markdown",
   "metadata": {},
   "source": [
    "dlt = Deadling of last task"
   ]
  },
  {
   "cell_type": "markdown",
   "metadata": {},
   "source": [
    "$Initial Order = dft - ft + dlt - (ft+lt)$"
   ]
  },
  {
   "cell_type": "markdown",
   "metadata": {},
   "source": [
    "$Swapped Order = dlt - lt + dft - (lt+ft)$"
   ]
  },
  {
   "cell_type": "markdown",
   "metadata": {},
   "source": [
    "The relation between the two equation is only the variables _ft_ and _lt_"
   ]
  },
  {
   "cell_type": "markdown",
   "metadata": {},
   "source": [
    "$InitialOrder - SwappedOrder = -ft + lt$"
   ]
  },
  {
   "cell_type": "markdown",
   "metadata": {},
   "source": [
    "if $ ft > lt $ then $ -ft + lt  < 0$"
   ]
  },
  {
   "cell_type": "markdown",
   "metadata": {},
   "source": [
    "if $ ft < lt $ then $ -ft + lt > 0 $"
   ]
  },
  {
   "cell_type": "markdown",
   "metadata": {},
   "source": [
    "So that is the reason why First task needs to be shorter than Last Task to obtain more points"
   ]
  }
 ],
 "metadata": {
  "kernelspec": {
   "display_name": "C++14",
   "language": "C++14",
   "name": "xcpp14"
  },
  "language_info": {
   "codemirror_mode": "text/x-c++src",
   "file_extension": ".cpp",
   "mimetype": "text/x-c++src",
   "name": "c++",
   "version": "14"
  }
 },
 "nbformat": 4,
 "nbformat_minor": 4
}
