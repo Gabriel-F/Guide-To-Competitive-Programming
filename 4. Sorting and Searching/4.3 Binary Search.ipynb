{
 "cells": [
  {
   "cell_type": "code",
   "execution_count": 1,
   "metadata": {},
   "outputs": [],
   "source": [
    "#include <iostream>\n",
    "#include <vector>\n",
    "#include <algorithm>\n",
    "#include <utility>\n",
    "\n",
    "using namespace std;"
   ]
  },
  {
   "cell_type": "markdown",
   "metadata": {},
   "source": [
    "<h1> Binary Search </h1>"
   ]
  },
  {
   "cell_type": "markdown",
   "metadata": {},
   "source": [
    "Binary Search is and _O(log n)_ time algorithm that can be used, for example to effficiently check whether a sorted array contains a given element."
   ]
  },
  {
   "cell_type": "markdown",
   "metadata": {},
   "source": [
    "Implementation"
   ]
  },
  {
   "cell_type": "code",
   "execution_count": null,
   "metadata": {},
   "outputs": [],
   "source": [
    "int a = 0; b = n-1; //Length of array\n",
    "while(a <= b){\n",
    "    int k = (a+b)/2;\n",
    "    if(array[k] == x){\n",
    "        //x found at index k\n",
    "    }\n",
    "    if(array[k] < x) a = k+1; //Proucura na metade superior do array\n",
    "    else b = k - 1; // Proucura na metade inferior do array\n",
    "}"
   ]
  },
  {
   "cell_type": "markdown",
   "metadata": {},
   "source": [
    "<h3> Finding Optimal Solutions <h3>"
   ]
  },
  {
   "cell_type": "markdown",
   "metadata": {},
   "source": [
    "Consider a problem where our task is to process _k_ jobs using _n_ machines.\n",
    "Each machine _i_ is assigned an integer _pi_ : the time to process a single job. What is the minimum time to process all the jobs?"
   ]
  },
  {
   "cell_type": "markdown",
   "metadata": {},
   "source": [
    "For example, suppose that _k_ = 8, _n_ = 3 and the processing times are _p1_ = 2, _p2_ = 3 and _p3_ = 7. In this case, the minimum total processing time is 9, by following the schedule in figure below"
   ]
  },
  {
   "cell_type": "markdown",
   "metadata": {},
   "source": [
    "<img src=\"img/ProcessingSchedule.png\" width =350px>"
   ]
  },
  {
   "cell_type": "markdown",
   "metadata": {},
   "source": [
    "Let **valid(x)** be a function that find out wheter it is possible to process all the jobs using at most x units of time. In our scenario clearly **valid(9)** is true."
   ]
  },
  {
   "cell_type": "markdown",
   "metadata": {},
   "source": [
    "One way to solve this problem is to use Binary Search to find the x in **valid(x)** the initial value can be $z = kpi$ which means that one machine will process all the jobs. This is surely a valid upper bound."
   ]
  }
 ],
 "metadata": {
  "kernelspec": {
   "display_name": "C++14",
   "language": "C++14",
   "name": "xcpp14"
  },
  "language_info": {
   "codemirror_mode": "text/x-c++src",
   "file_extension": ".cpp",
   "mimetype": "text/x-c++src",
   "name": "c++",
   "version": "14"
  }
 },
 "nbformat": 4,
 "nbformat_minor": 4
}
