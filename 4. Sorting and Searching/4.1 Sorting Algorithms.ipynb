{
 "cells": [
  {
   "cell_type": "code",
   "execution_count": 1,
   "metadata": {},
   "outputs": [],
   "source": [
    "#include <iostream>\n",
    "#include <algorithm>\n",
    "#include <cstring>\n",
    "#include <vector>\n",
    "#include <utility>\n",
    "\n",
    "using namespace std;"
   ]
  },
  {
   "cell_type": "code",
   "execution_count": 2,
   "metadata": {},
   "outputs": [],
   "source": [
    "void printArray(int arr[],int n){\n",
    "    for(int i=0;i<n;i++){\n",
    "        cout << arr[i] << \" \";\n",
    "    }\n",
    "    cout << endl;\n",
    "}"
   ]
  },
  {
   "cell_type": "code",
   "execution_count": 3,
   "metadata": {},
   "outputs": [],
   "source": [
    "void printVector(vector<int> v){\n",
    "    for(int i=0;i<v.size();i++){\n",
    "        cout << v[i] << \" \";\n",
    "    }\n",
    "    cout << endl;\n",
    "}"
   ]
  },
  {
   "cell_type": "markdown",
   "metadata": {},
   "source": [
    "<h1>Sorting and Searching</h1>"
   ]
  },
  {
   "cell_type": "markdown",
   "metadata": {},
   "source": [
    "<h2> Sorting Algorithms </h2>"
   ]
  },
  {
   "cell_type": "code",
   "execution_count": 5,
   "metadata": {},
   "outputs": [],
   "source": [
    "int arr[8] = {1,3,6,2,8,2,5,9};\n",
    "int n = 8;"
   ]
  },
  {
   "cell_type": "markdown",
   "metadata": {},
   "source": [
    "<h3> Bubble Sort O($n^{2}$)</h3>"
   ]
  },
  {
   "cell_type": "code",
   "execution_count": 4,
   "metadata": {},
   "outputs": [],
   "source": [
    "for(int i=0; i < n; i++){\n",
    "    for(int j=0;j < n-i-1; j++){\n",
    "        if(arr[j] > arr[j+1]){\n",
    "            swap(arr[j],arr[j+1]);\n",
    "        }\n",
    "    }\n",
    "}"
   ]
  },
  {
   "cell_type": "markdown",
   "metadata": {},
   "source": [
    "<h3> Merge Sort O($nlog(n)$)</h3>"
   ]
  },
  {
   "cell_type": "code",
   "execution_count": 6,
   "metadata": {},
   "outputs": [],
   "source": [
    "void merge(int arr[], int n, int l, int m, int h){\n",
    "    int localArr[n];\n",
    "    int i=l;\n",
    "    int ptl = l;\n",
    "    int pth = m+1;\n",
    "    while(i <= h){\n",
    "        if(ptl > m){\n",
    "            localArr[i] = arr[pth];\n",
    "            pth++;\n",
    "        }else if(pth > h){\n",
    "            localArr[i] = arr[ptl];\n",
    "            ptl++;\n",
    "        }else if(arr[ptl] < arr[pth]){\n",
    "            localArr[i] = arr[ptl];\n",
    "            ptl++;\n",
    "        }else{\n",
    "            localArr[i] = arr[pth];\n",
    "            pth++;\n",
    "        }\n",
    "        i++;\n",
    "    }\n",
    "    for(int i=l;i<=h;i++){\n",
    "        arr[i] = localArr[i]; \n",
    "    }\n",
    "}"
   ]
  },
  {
   "cell_type": "code",
   "execution_count": 7,
   "metadata": {},
   "outputs": [],
   "source": [
    "void mergeSort(int arr[], int n, int l, int h){\n",
    "    if((h-l) >= 1){\n",
    "        int m = (h-l)/2 + l;\n",
    "        mergeSort(arr,n,l,m);\n",
    "        mergeSort(arr,n,m+1,h);\n",
    "        merge(arr,n,l,m,h);\n",
    "    }\n",
    "}"
   ]
  },
  {
   "cell_type": "code",
   "execution_count": 8,
   "metadata": {},
   "outputs": [
    {
     "name": "stdout",
     "output_type": "stream",
     "text": [
      "1 2 2 3 5 6 8 9 \n"
     ]
    }
   ],
   "source": [
    "mergeSort(arr,n,0,n-1);\n",
    "printArray(arr,n);"
   ]
  },
  {
   "cell_type": "markdown",
   "metadata": {},
   "source": [
    "<h3> Sorting in practice </h3>"
   ]
  },
  {
   "cell_type": "code",
   "execution_count": 4,
   "metadata": {},
   "outputs": [
    {
     "name": "stdout",
     "output_type": "stream",
     "text": [
      "2 3 3 4 5 5 8 \n",
      "8 5 5 4 3 3 2 \n"
     ]
    }
   ],
   "source": [
    "vector<int> v = {4,2,5,3,5,8,3};\n",
    "sort(v.begin(),v.end()); // increasing order\n",
    "printVector(v);\n",
    "sort(v.rbegin(),v.rend()); //decreasing order\n",
    "printVector(v);"
   ]
  },
  {
   "cell_type": "markdown",
   "metadata": {},
   "source": [
    "<h4>Comparison Operators</h4>"
   ]
  },
  {
   "cell_type": "markdown",
   "metadata": {},
   "source": [
    "When we sort number the comparison operator is the value of numbers, when compare Pair the first element is compared."
   ]
  },
  {
   "cell_type": "markdown",
   "metadata": {},
   "source": [
    "Podemos também criar uma funcão de comparação que compara outros elementos da variaveis."
   ]
  },
  {
   "cell_type": "markdown",
   "metadata": {},
   "source": [
    "Por exemplo:"
   ]
  },
  {
   "cell_type": "code",
   "execution_count": 2,
   "metadata": {},
   "outputs": [],
   "source": [
    "vector<pair<int,int> > vPair;\n",
    "vPair.push_back(make_pair(1,5));\n",
    "vPair.push_back(make_pair(3,4));\n",
    "vPair.push_back(make_pair(2,3));\n",
    "vPair.push_back(make_pair(5,8));\n"
   ]
  },
  {
   "cell_type": "code",
   "execution_count": 3,
   "metadata": {},
   "outputs": [],
   "source": [
    "bool funcCompare(pair<int,int> a, pair<int,int> b){\n",
    "    if(a.second < b.second){\n",
    "        return true;\n",
    "    }else{\n",
    "        return false;\n",
    "    }\n",
    "}"
   ]
  },
  {
   "cell_type": "code",
   "execution_count": 4,
   "metadata": {},
   "outputs": [],
   "source": [
    "sort(vPair.begin(),vPair.end(),funcCompare);"
   ]
  },
  {
   "cell_type": "code",
   "execution_count": 5,
   "metadata": {},
   "outputs": [
    {
     "name": "stdout",
     "output_type": "stream",
     "text": [
      "2 , 3\n",
      "3 , 4\n",
      "1 , 5\n",
      "5 , 8\n"
     ]
    }
   ],
   "source": [
    "for(int i = 0;i<vPair.size();i++){\n",
    "    cout << vPair[i].first << \" , \" << vPair[i].second << endl;\n",
    "}"
   ]
  },
  {
   "cell_type": "markdown",
   "metadata": {},
   "source": [
    "Ordenou o vetor pelo segundo elemento."
   ]
  }
 ],
 "metadata": {
  "kernelspec": {
   "display_name": "C++14",
   "language": "C++14",
   "name": "xcpp14"
  },
  "language_info": {
   "codemirror_mode": "text/x-c++src",
   "file_extension": ".cpp",
   "mimetype": "text/x-c++src",
   "name": "c++",
   "version": "14"
  }
 },
 "nbformat": 4,
 "nbformat_minor": 4
}
