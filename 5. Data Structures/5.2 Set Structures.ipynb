{
 "cells": [
  {
   "cell_type": "code",
   "execution_count": 2,
   "metadata": {},
   "outputs": [],
   "source": [
    "#include <iostream>\n",
    "#include <set>\n",
    "#include <queue>\n",
    "#include <map>\n",
    "\n",
    "using namespace std;"
   ]
  },
  {
   "cell_type": "markdown",
   "metadata": {},
   "source": [
    "<h1>Set Structures</h1>"
   ]
  },
  {
   "cell_type": "markdown",
   "metadata": {},
   "source": [
    "A _set_ is a data structure that maintains a collection of elements. The basic operations of sets are element insertion, search and removal."
   ]
  },
  {
   "cell_type": "markdown",
   "metadata": {},
   "source": [
    "<h2> Sets and Multisets </h2>"
   ]
  },
  {
   "cell_type": "markdown",
   "metadata": {},
   "source": [
    "C++ has two set structures:"
   ]
  },
  {
   "cell_type": "markdown",
   "metadata": {},
   "source": [
    "_set_ is based on a balanced binary search tree works in _O(log n)_"
   ]
  },
  {
   "cell_type": "markdown",
   "metadata": {},
   "source": [
    "_unordered_set_ is based on a hash table woks in _O(1)_"
   ]
  },
  {
   "cell_type": "code",
   "execution_count": 2,
   "metadata": {},
   "outputs": [],
   "source": [
    "set<int> s;"
   ]
  },
  {
   "cell_type": "code",
   "execution_count": 3,
   "metadata": {},
   "outputs": [
    {
     "name": "stdout",
     "output_type": "stream",
     "text": [
      "1\n",
      "0\n",
      "0\n",
      "1\n"
     ]
    }
   ],
   "source": [
    "s.insert(3);\n",
    "s.insert(2);\n",
    "s.insert(5);\n",
    "cout << s.count(3) << \"\\n\";\n",
    "cout << s.count(4) << \"\\n\";\n",
    "s.erase(3);\n",
    "s.insert(4);\n",
    "cout << s.count(3) << \"\\n\";\n",
    "cout << s.count(4) << \"\\n\";"
   ]
  },
  {
   "cell_type": "markdown",
   "metadata": {},
   "source": [
    "The function insert never add an element to the set if it is already there"
   ]
  },
  {
   "cell_type": "code",
   "execution_count": 4,
   "metadata": {},
   "outputs": [
    {
     "name": "stdout",
     "output_type": "stream",
     "text": [
      "1\n"
     ]
    }
   ],
   "source": [
    "set<int> a;\n",
    "a.insert(3);\n",
    "a.insert(3);\n",
    "a.insert(3);\n",
    "cout << a.count(3) << \"\\n\";"
   ]
  },
  {
   "cell_type": "code",
   "execution_count": 6,
   "metadata": {},
   "outputs": [
    {
     "name": "stdout",
     "output_type": "stream",
     "text": [
      "size: 3\n",
      "2\n",
      "4\n",
      "5\n"
     ]
    }
   ],
   "source": [
    "cout << \"size: \"<< s.size() << \"\\n\";\n",
    "for(auto x : s){ //Print ordered set\n",
    "    cout << x << \"\\n\";\n",
    "}"
   ]
  },
  {
   "cell_type": "code",
   "execution_count": null,
   "metadata": {},
   "outputs": [],
   "source": [
    "auto it = s.find(x);\n",
    "if (it == s.end()){\n",
    "    // x is not found\n",
    "}"
   ]
  },
  {
   "cell_type": "markdown",
   "metadata": {},
   "source": [
    "Consider the problem of finding the smallest and largest value in a set. To do this efficiently, we need to use the set structure. Since the elements are sorted, we can find the smallest and largest value as follows:"
   ]
  },
  {
   "cell_type": "code",
   "execution_count": 7,
   "metadata": {},
   "outputs": [
    {
     "name": "stdout",
     "output_type": "stream",
     "text": [
      "2 5\n"
     ]
    }
   ],
   "source": [
    "auto first = s.begin();\n",
    "auto last = s.end(); last--; // last-- because end() points to outside of set or vector, so lets-- points to the last elemtn\n",
    "cout << *first << \" \" << *last << \"\\n\";"
   ]
  },
  {
   "cell_type": "markdown",
   "metadata": {},
   "source": [
    "Set also provides the functions _lower_bound_ and _upper_bound_"
   ]
  },
  {
   "cell_type": "markdown",
   "metadata": {},
   "source": [
    "<h4> Multisets </h4>"
   ]
  },
  {
   "cell_type": "markdown",
   "metadata": {},
   "source": [
    "A **multiset** is a set that can have several copies fo the same value."
   ]
  },
  {
   "cell_type": "code",
   "execution_count": 8,
   "metadata": {},
   "outputs": [
    {
     "name": "stdout",
     "output_type": "stream",
     "text": [
      "3\n"
     ]
    }
   ],
   "source": [
    "multiset<int> q;\n",
    "q.insert(5);\n",
    "q.insert(5);\n",
    "q.insert(5);\n",
    "cout << q.count(5) << \"\\n\";"
   ]
  },
  {
   "cell_type": "code",
   "execution_count": 10,
   "metadata": {},
   "outputs": [
    {
     "name": "stdout",
     "output_type": "stream",
     "text": [
      "0\n"
     ]
    }
   ],
   "source": [
    "q.erase(5); // Remove all copies of 5\n",
    "cout << q.count(5) << \"\\n\";"
   ]
  },
  {
   "cell_type": "code",
   "execution_count": 11,
   "metadata": {},
   "outputs": [
    {
     "name": "stdout",
     "output_type": "stream",
     "text": [
      "2\n"
     ]
    }
   ],
   "source": [
    "q.insert(5);\n",
    "q.insert(5);\n",
    "q.insert(5);\n",
    "q.erase(q.find(5));//Remove only one copy of 5\n",
    "cout << q.count(5) << \"\\n\";"
   ]
  },
  {
   "cell_type": "markdown",
   "metadata": {},
   "source": [
    "<h3> Maps </h3>"
   ]
  },
  {
   "cell_type": "markdown",
   "metadata": {},
   "source": [
    "Map is a set that consists of key-value pairs."
   ]
  },
  {
   "cell_type": "markdown",
   "metadata": {},
   "source": [
    "C++ stl contains two map structures _map_ and _unordered_map_"
   ]
  },
  {
   "cell_type": "code",
   "execution_count": 12,
   "metadata": {},
   "outputs": [
    {
     "name": "stdout",
     "output_type": "stream",
     "text": [
      "3\n"
     ]
    }
   ],
   "source": [
    "map<string,int> m;\n",
    "m[\"monkey\"] = 4;\n",
    "m[\"banana\"] = 3;\n",
    "m[\"harpsichord\"] = 9;\n",
    "cout << m[\"banana\"] << \"\\n\";"
   ]
  },
  {
   "cell_type": "code",
   "execution_count": 14,
   "metadata": {},
   "outputs": [
    {
     "name": "stdout",
     "output_type": "stream",
     "text": [
      "0\n"
     ]
    }
   ],
   "source": [
    "//If value of a key is requested and the map doesn't containt it, the key is automatically added\n",
    "//to the map with a default value e.g if the type of value is int then the value will be 0\n",
    "cout << m[\"aybabtu\"] << \"\\n\";"
   ]
  },
  {
   "cell_type": "code",
   "execution_count": null,
   "metadata": {},
   "outputs": [],
   "source": [
    "//function count checks if a key exists in a map\n",
    "if(m.count(\"aybabtu\")){\n",
    "    //key exists\n",
    "}"
   ]
  },
  {
   "cell_type": "code",
   "execution_count": 15,
   "metadata": {},
   "outputs": [
    {
     "name": "stdout",
     "output_type": "stream",
     "text": [
      "aybabtu 0\n",
      "banana 3\n",
      "harpsichord 9\n",
      "monkey 4\n"
     ]
    }
   ],
   "source": [
    "//Prints all keys\n",
    "for (auto x : m){\n",
    "    cout << x.first << \" \" << x.second << \"\\n\";\n",
    "}"
   ]
  },
  {
   "cell_type": "markdown",
   "metadata": {},
   "source": [
    "<h3> Priority Queues </h3>"
   ]
  },
  {
   "cell_type": "markdown",
   "metadata": {},
   "source": [
    "Basically a multiste which is more efficient to find minimum or maximum elements"
   ]
  },
  {
   "cell_type": "code",
   "execution_count": 4,
   "metadata": {},
   "outputs": [
    {
     "name": "stdout",
     "output_type": "stream",
     "text": [
      "7\n",
      "5\n",
      "6\n"
     ]
    }
   ],
   "source": [
    "priority_queue<int> pq;\n",
    "pq.push(3);\n",
    "pq.push(5);\n",
    "pq.push(7);\n",
    "pq.push(2);\n",
    "cout << pq.top() << \"\\n\";\n",
    "pq.pop();\n",
    "cout << pq.top() << \"\\n\";\n",
    "pq.pop();\n",
    "pq.push(6);\n",
    "cout << pq.top() << \"\\n\";\n",
    "pq.pop();"
   ]
  }
 ],
 "metadata": {
  "kernelspec": {
   "display_name": "C++14",
   "language": "C++14",
   "name": "xcpp14"
  },
  "language_info": {
   "codemirror_mode": "text/x-c++src",
   "file_extension": ".cpp",
   "mimetype": "text/x-c++src",
   "name": "c++",
   "version": "14"
  }
 },
 "nbformat": 4,
 "nbformat_minor": 4
}
