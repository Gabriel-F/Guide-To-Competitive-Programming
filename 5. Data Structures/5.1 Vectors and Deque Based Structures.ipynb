{
 "cells": [
  {
   "cell_type": "code",
   "execution_count": 1,
   "metadata": {},
   "outputs": [],
   "source": [
    "#include <iostream>\n",
    "#include <vector>\n",
    "#include <algorithm>\n",
    "#include <deque>\n",
    "#include <stack>\n",
    "#include <queue>\n",
    "\n",
    "using namespace std;"
   ]
  },
  {
   "cell_type": "markdown",
   "metadata": {},
   "source": [
    "<h1> Data Structures </h1>"
   ]
  },
  {
   "cell_type": "markdown",
   "metadata": {},
   "source": [
    "<h2> Vectors </h2>"
   ]
  },
  {
   "cell_type": "markdown",
   "metadata": {},
   "source": [
    "A vector is a dynamic array (array that can change the size even after creation)"
   ]
  },
  {
   "cell_type": "code",
   "execution_count": 3,
   "metadata": {},
   "outputs": [],
   "source": [
    "vector<int> v;\n",
    "v.push_back(3); // [3]\n",
    "v.push_back(2); // [3,2]\n",
    "v.push_back(5); // [3,2,5]"
   ]
  },
  {
   "cell_type": "code",
   "execution_count": 4,
   "metadata": {},
   "outputs": [
    {
     "name": "stdout",
     "output_type": "stream",
     "text": [
      "3\n",
      "2\n",
      "5\n"
     ]
    }
   ],
   "source": [
    "cout << v[0] << \"\\n\";\n",
    "cout << v[1] << \"\\n\";\n",
    "cout << v[2] << \"\\n\";"
   ]
  },
  {
   "cell_type": "code",
   "execution_count": 5,
   "metadata": {},
   "outputs": [],
   "source": [
    "vector<int> a = {2,4,2,5,1};"
   ]
  },
  {
   "cell_type": "code",
   "execution_count": 6,
   "metadata": {},
   "outputs": [],
   "source": [
    "vector<int> b(8); //size 8, initial value 0\n",
    "vector<int> c(8,2) //size 8, initial value 2"
   ]
  },
  {
   "cell_type": "markdown",
   "metadata": {},
   "source": [
    "Ways to iterate over a vector"
   ]
  },
  {
   "cell_type": "code",
   "execution_count": 7,
   "metadata": {},
   "outputs": [
    {
     "name": "stdout",
     "output_type": "stream",
     "text": [
      "2\n",
      "4\n",
      "2\n",
      "5\n",
      "1\n"
     ]
    }
   ],
   "source": [
    "for(int i =0; i < a.size(); i++){\n",
    "    cout << a[i] << \"\\n\";\n",
    "}"
   ]
  },
  {
   "cell_type": "code",
   "execution_count": 8,
   "metadata": {},
   "outputs": [
    {
     "name": "stdout",
     "output_type": "stream",
     "text": [
      "2\n",
      "4\n",
      "2\n",
      "5\n",
      "1\n"
     ]
    }
   ],
   "source": [
    "for(auto x:a){\n",
    "    cout << x << \"\\n\";\n",
    "}"
   ]
  },
  {
   "cell_type": "markdown",
   "metadata": {},
   "source": [
    "The function _back_ returns the last element of a vector, and the function _pop_back_ removes the last element"
   ]
  },
  {
   "cell_type": "code",
   "execution_count": 9,
   "metadata": {},
   "outputs": [
    {
     "name": "stdout",
     "output_type": "stream",
     "text": [
      "1\n",
      "5\n"
     ]
    }
   ],
   "source": [
    "vector<int> q = {2,4,2,5,1};\n",
    "cout << q.back() << \"\\n\";\n",
    "q.pop_back();\n",
    "cout << q.back() << \"\\n\";"
   ]
  },
  {
   "cell_type": "markdown",
   "metadata": {},
   "source": [
    "The functions _push_back_ and _pop_back_ work in _O(1)_"
   ]
  },
  {
   "cell_type": "markdown",
   "metadata": {},
   "source": [
    "<h3> Iterators and Ranges </h3>"
   ]
  },
  {
   "cell_type": "markdown",
   "metadata": {},
   "source": [
    "An _iterator_ is a variable that points to an element of a data structure. The iterator _begin_ points to the first element of a data structure, and the iterator _end_ points to the position _after_ the last element."
   ]
  },
  {
   "cell_type": "code",
   "execution_count": null,
   "metadata": {},
   "outputs": [],
   "source": [
    "sort(v.begin(),v.end());\n",
    "reverse(v.begin(),v.end());\n",
    "random_shuffle(v.begin(),v.end());"
   ]
  },
  {
   "cell_type": "markdown",
   "metadata": {},
   "source": [
    "The element to which an iterator points can be acessed using the _*_ syntax"
   ]
  },
  {
   "cell_type": "code",
   "execution_count": 14,
   "metadata": {},
   "outputs": [
    {
     "name": "stdout",
     "output_type": "stream",
     "text": [
      "2\n"
     ]
    }
   ],
   "source": [
    "cout << *q.begin() << \"\\n\";"
   ]
  },
  {
   "cell_type": "markdown",
   "metadata": {},
   "source": [
    "(Useful examples) _lower_bound_ gives an iterator to the first element in a sorted range whose value is _at least_ x, and _upper_bound_ gives an iterator to the first element whose value is _larger_ than x;"
   ]
  },
  {
   "cell_type": "code",
   "execution_count": 2,
   "metadata": {},
   "outputs": [
    {
     "name": "stdout",
     "output_type": "stream",
     "text": [
      "5 7\n"
     ]
    }
   ],
   "source": [
    "vector<int> r = {2,3,3,4,5,7,8,8,8};\n",
    "auto fa = lower_bound(r.begin(),r.end(),5); \n",
    "auto fb = upper_bound(r.begin(),r.end(),5);\n",
    "cout << *fa << \" \" << *fb << \"\\n\";"
   ]
  },
  {
   "cell_type": "markdown",
   "metadata": {},
   "source": [
    "Theses functions only works when the given range is sorted."
   ]
  },
  {
   "cell_type": "markdown",
   "metadata": {},
   "source": [
    "<h3> Other Structures </h3>"
   ]
  },
  {
   "cell_type": "markdown",
   "metadata": {},
   "source": [
    "A _deque_ is a dynamic array that can be manipulated at both ends, _front_ and _back_ , a deque provide the functions _push_back_ and _pop_back_ , but it also provides the _push_front_ and _pop_front_ ."
   ]
  },
  {
   "cell_type": "code",
   "execution_count": 4,
   "metadata": {},
   "outputs": [],
   "source": [
    "deque<int> d;\n",
    "d.push_back(5); //[5]\n",
    "d.push_back(2); //[5,2]\n",
    "d.push_front(3); //[3,5,2]\n",
    "d.pop_back(); //[3,5]\n",
    "d.pop_front(); //[5]"
   ]
  },
  {
   "cell_type": "markdown",
   "metadata": {},
   "source": [
    "The deque operations work in _O(1)_ average time, but have larger constat factors than vectors."
   ]
  },
  {
   "cell_type": "markdown",
   "metadata": {},
   "source": [
    "C++ also provides two specializes data structures that are, by default, beased on a deque."
   ]
  },
  {
   "cell_type": "markdown",
   "metadata": {},
   "source": [
    "A _stack_ has the functions _push_ and _pop_ for inserting and removing elements at the end of the structure and the function _top_ that retrieves the last element"
   ]
  },
  {
   "cell_type": "code",
   "execution_count": 7,
   "metadata": {},
   "outputs": [
    {
     "name": "stdout",
     "output_type": "stream",
     "text": [
      "5\n",
      "2\n"
     ]
    }
   ],
   "source": [
    "stack<int> s;\n",
    "s.push(2); //[5]\n",
    "s.push(5); //[2,5] 5 on top\n",
    "cout << s.top() << \"\\n\";\n",
    "s.pop(); //[2]\n",
    "cout << s.top() << \"\\n\";"
   ]
  },
  {
   "cell_type": "markdown",
   "metadata": {},
   "source": [
    "Then, in a _queue_ elements are inserted at the end of the structure and removed from the front of the strucutre. Both the functions _front_ and _back_ are provided for accessing the first and last element"
   ]
  },
  {
   "cell_type": "code",
   "execution_count": 2,
   "metadata": {},
   "outputs": [
    {
     "name": "stdout",
     "output_type": "stream",
     "text": [
      "2\n",
      "5\n"
     ]
    }
   ],
   "source": [
    "queue<int> qu;\n",
    "qu.push(2); //[2]\n",
    "qu.push(5); // [2,5]\n",
    "cout << qu.front() << \"\\n\";\n",
    "qu.pop(); // [5]\n",
    "cout << qu.back() << \"\\n\";"
   ]
  }
 ],
 "metadata": {
  "kernelspec": {
   "display_name": "C++14",
   "language": "C++14",
   "name": "xcpp14"
  },
  "language_info": {
   "codemirror_mode": "text/x-c++src",
   "file_extension": ".cpp",
   "mimetype": "text/x-c++src",
   "name": "c++",
   "version": "14"
  }
 },
 "nbformat": 4,
 "nbformat_minor": 4
}
