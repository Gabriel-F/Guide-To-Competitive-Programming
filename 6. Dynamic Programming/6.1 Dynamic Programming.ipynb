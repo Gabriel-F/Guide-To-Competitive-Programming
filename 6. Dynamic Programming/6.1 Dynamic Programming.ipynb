{
 "cells": [
  {
   "cell_type": "code",
   "execution_count": 1,
   "metadata": {},
   "outputs": [],
   "source": [
    "#include <iostream>\n",
    "\n",
    "using namespace std;"
   ]
  },
  {
   "cell_type": "markdown",
   "metadata": {},
   "source": [
    "<h1> Dynamic Programming </h1>"
   ]
  },
  {
   "cell_type": "markdown",
   "metadata": {},
   "source": [
    "<h2> Basic Concpets </h2>"
   ]
  },
  {
   "cell_type": "markdown",
   "metadata": {},
   "source": [
    "<h3> When Greedy Fails </h3>"
   ]
  },
  {
   "cell_type": "markdown",
   "metadata": {},
   "source": [
    "Example:"
   ]
  },
  {
   "cell_type": "markdown",
   "metadata": {},
   "source": [
    "Suppose that we are given a set of coin values _coins_ = [c1,c2,...,ck] and a target sum of money _n_ , and we are asked to construct the sum _n_ using as few coins as possible\n",
    "Example: if _coins_ = [1,2,5] and _n_ = 12, the optimal solution is 5 + 5 + 2 = 12"
   ]
  },
  {
   "cell_type": "markdown",
   "metadata": {},
   "source": [
    "The intuition and the greedy algorithms fails"
   ]
  },
  {
   "cell_type": "markdown",
   "metadata": {},
   "source": [
    "Greedy Algorithm: select largest possible coint so that the sum of coins does not exceed thr target sum, so for _n_ = 12 we first select 5 and 5 again result in 10 and after this we select 2 resulting in 12"
   ]
  },
  {
   "cell_type": "markdown",
   "metadata": {},
   "source": [
    "But this strategy fails"
   ]
  },
  {
   "cell_type": "markdown",
   "metadata": {},
   "source": [
    "For example _coins_ = [1,3,4] and _n_ = 6"
   ]
  },
  {
   "cell_type": "markdown",
   "metadata": {},
   "source": [
    "The optimal solution is (3 + 3) = 6"
   ]
  },
  {
   "cell_type": "markdown",
   "metadata": {},
   "source": [
    "By using the greedy algorithm the result will be (4 + 1 + 1 = 6), so that's not correct."
   ]
  },
  {
   "cell_type": "markdown",
   "metadata": {},
   "source": [
    "An efficien way is using Dynamic Programming which is almost a brute force algorithm but more efficient"
   ]
  },
  {
   "cell_type": "markdown",
   "metadata": {},
   "source": [
    "<h3> Finding an Optimal Solution </h3>"
   ]
  },
  {
   "cell_type": "markdown",
   "metadata": {},
   "source": [
    "To use Dynamic Programming, we should formulate the problem recursively."
   ]
  },
  {
   "cell_type": "markdown",
   "metadata": {},
   "source": [
    "How to solve the previous problem using Dynamic Programming"
   ]
  },
  {
   "cell_type": "markdown",
   "metadata": {},
   "source": [
    "In the coint problem, a natural recursive problem is to calculate values of a function _solve(x)_ : what is the minimum number of coins required to form a sum x? Clearly, the values of the function depend on the value of the coins"
   ]
  },
  {
   "cell_type": "markdown",
   "metadata": {},
   "source": [
    "For example:  _coins_ = [1,3,4]"
   ]
  },
  {
   "cell_type": "markdown",
   "metadata": {},
   "source": [
    "<img src=\"img/DynamicSolving.png\" width=\"200px\">"
   ]
  },
  {
   "cell_type": "markdown",
   "metadata": {},
   "source": [
    "(brilliant alert)"
   ]
  },
  {
   "cell_type": "markdown",
   "metadata": {},
   "source": [
    "For example _solve(10)_ = 3 the optimal solution can be 3 + 3 + 4 = 10"
   ]
  },
  {
   "cell_type": "markdown",
   "metadata": {},
   "source": [
    "The essential property of solve is that its values can be recursively calculated from its smaller values. WOOOWW"
   ]
  },
  {
   "cell_type": "markdown",
   "metadata": {},
   "source": [
    "In the above scenario, the first coint can be either 1,3 or 4. If we first choose coint 1, the remaining task is to form the sum 9 using the minimum number of coints, which is a subproblem of the original problem. The same applies to coins 3 and 4."
   ]
  },
  {
   "cell_type": "markdown",
   "metadata": {},
   "source": [
    "<img src=\"img/Solve.png\" width=\"300px\" >"
   ]
  },
  {
   "cell_type": "markdown",
   "metadata": {},
   "source": [
    "The base case of the recursion is solve(0) = 0, because no coins are needed."
   ]
  },
  {
   "cell_type": "markdown",
   "metadata": {},
   "source": [
    "_solve(10) = solve(7) + 1 = solve(4) + 2 = solve(0) + 3 = 3"
   ]
  },
  {
   "cell_type": "markdown",
   "metadata": {},
   "source": [
    "The recursion formula:"
   ]
  },
  {
   "cell_type": "markdown",
   "metadata": {},
   "source": [
    "<img src=\"img/Recursion.png\" width=\"300px\">"
   ]
  },
  {
   "cell_type": "code",
   "execution_count": null,
   "metadata": {},
   "outputs": [],
   "source": [
    "int solve(int x){\n",
    "    if(x < 0) return INF;\n",
    "    if(x == 0) return 0;\n",
    "    int best = INF;\n",
    "    for(auto c : coins){\n",
    "        best = min(best, solve(x-c)+1);\n",
    "    }\n",
    "}"
   ]
  },
  {
   "cell_type": "markdown",
   "metadata": {},
   "source": [
    "But still, this function is not efficient, because there may be a large number of ways to construct the sum and the function checks all of them"
   ]
  },
  {
   "cell_type": "markdown",
   "metadata": {},
   "source": [
    "<h4> Memoization </h4>"
   ]
  },
  {
   "cell_type": "markdown",
   "metadata": {},
   "source": [
    "**Memoization** The key idea in dynamic progrmaming is _memoization_, which means that we store each function value in an array directly after calculating it. Then, when the value is needed again, it can be retrieved from the array without recursive calls."
   ]
  },
  {
   "cell_type": "code",
   "execution_count": null,
   "metadata": {},
   "outputs": [],
   "source": [
    "bool ready[N];\n",
    "int value[N];"
   ]
  },
  {
   "cell_type": "markdown",
   "metadata": {},
   "source": [
    "_ready[x]_ indicates if value of x has been calculated and if it is, value[x] store this value"
   ]
  },
  {
   "cell_type": "code",
   "execution_count": null,
   "metadata": {},
   "outputs": [],
   "source": [
    "int solve(int x){\n",
    "    if (x < 0) return INF;\n",
    "    if (x == 0) return 0;\n",
    "    if (ready[x]) return value[x];\n",
    "    int best = INF;\n",
    "    for(auto c : coins){\n",
    "        best = min(best, solve(x-c) + 1);\n",
    "    }\n",
    "    ready[x] = true;\n",
    "    value[x] = best;\n",
    "    return best;\n",
    "}"
   ]
  },
  {
   "cell_type": "markdown",
   "metadata": {},
   "source": [
    "**Iterative Implementation**\n",
    "This calculate the _values_ of all x sequencially"
   ]
  },
  {
   "cell_type": "code",
   "execution_count": null,
   "metadata": {},
   "outputs": [],
   "source": [
    "value[0] = 0;\n",
    "for(int x = 1; x <= n; x++){\n",
    "    value[x] = INF;\n",
    "    for(auto c : coins){\n",
    "        if(x-c >= 0){\n",
    "            value[x] = min(value[x], value[x-c]+1);\n",
    "        }\n",
    "    }\n",
    "}"
   ]
  },
  {
   "cell_type": "markdown",
   "metadata": {},
   "source": [
    "To give an example of solution:"
   ]
  },
  {
   "cell_type": "markdown",
   "metadata": {},
   "source": [
    "We first create a new array that indicates for each sum of money the first coin in an optimal solution"
   ]
  },
  {
   "cell_type": "code",
   "execution_count": null,
   "metadata": {},
   "outputs": [],
   "source": [
    "int first[N];"
   ]
  },
  {
   "cell_type": "code",
   "execution_count": null,
   "metadata": {},
   "outputs": [],
   "source": [
    "value[0] = 0;\n",
    "for(int x = 1; x <= n; x++){\n",
    "    value[x] = INF;\n",
    "    for(auto c : coins){\n",
    "        if(x-c >= 0 && value[x-c]+1 < value[x]){ // choose the minimum value trying each coin\n",
    "            value[x]= value[x-c]+1;\n",
    "            first[x] = c;\n",
    "        }\n",
    "    }\n",
    "}"
   ]
  },
  {
   "cell_type": "code",
   "execution_count": null,
   "metadata": {},
   "outputs": [],
   "source": [
    "while(n > 0){\n",
    "    cout << first[n] << \"\\n\";\n",
    "    n -= first[n]; // solve(10) == 3 + 3 + 4 first[10] = 4, first[6] = 3, first[3] = 3 \n",
    "}"
   ]
  },
  {
   "cell_type": "markdown",
   "metadata": {},
   "source": [
    "To count all possible ways to solve the problem"
   ]
  },
  {
   "cell_type": "markdown",
   "metadata": {},
   "source": [
    "For example: if coins = {1,3,4} and n = 5 There are a total of 6 ways to solve."
   ]
  },
  {
   "cell_type": "code",
   "execution_count": null,
   "metadata": {},
   "outputs": [],
   "source": [
    "count[0] = 1;\n",
    "for(int x = 1;x <= n; x++){\n",
    "    for(auto c : coins){\n",
    "        if(x-c >= 0){\n",
    "            count[x] += count[x-c];\n",
    "        }\n",
    "    }\n",
    "}"
   ]
  }
 ],
 "metadata": {
  "kernelspec": {
   "display_name": "C++14",
   "language": "C++14",
   "name": "xcpp14"
  },
  "language_info": {
   "codemirror_mode": "text/x-c++src",
   "file_extension": ".cpp",
   "mimetype": "text/x-c++src",
   "name": "c++",
   "version": "14"
  }
 },
 "nbformat": 4,
 "nbformat_minor": 4
}
