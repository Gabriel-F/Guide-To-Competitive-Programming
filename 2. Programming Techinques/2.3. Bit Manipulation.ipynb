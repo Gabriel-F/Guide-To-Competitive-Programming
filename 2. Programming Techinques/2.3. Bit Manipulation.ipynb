{
 "cells": [
  {
   "cell_type": "code",
   "execution_count": 1,
   "metadata": {},
   "outputs": [],
   "source": [
    "#include <iostream>\n",
    "#include <bitset>\n",
    "\n",
    "using namespace std;"
   ]
  },
  {
   "cell_type": "markdown",
   "metadata": {},
   "source": [
    "<h1>Capítulo 2</h1>"
   ]
  },
  {
   "cell_type": "markdown",
   "metadata": {},
   "source": [
    "<h2><center>Representing Sets</center></h2>"
   ]
  },
  {
   "cell_type": "markdown",
   "metadata": {},
   "source": [
    "A set can be represented as an n bit integer, whose one (1) bits indicate which elementd belong to the subset.\n",
    "\n",
    "<br/><center>00000000000000000000000100011010</center><br/>\n",
    "\n",
    "obs) Int is a 32-bit type\n",
    "\n",
    "The following code show how to do that:"
   ]
  },
  {
   "cell_type": "code",
   "execution_count": 2,
   "metadata": {},
   "outputs": [],
   "source": [
    "int x = 0;"
   ]
  },
  {
   "cell_type": "code",
   "execution_count": 3,
   "metadata": {},
   "outputs": [
    {
     "name": "stdout",
     "output_type": "stream",
     "text": [
      "4\n"
     ]
    }
   ],
   "source": [
    "x |= (1<<1);\n",
    "x |= (1<<3);\n",
    "x |= (1<<4);\n",
    "x |= (1<<8);\n",
    "\n",
    "cout << __builtin_popcount(x);//This function return the number of ones (1) in the bit representation\n",
    "cout << endl;"
   ]
  },
  {
   "cell_type": "markdown",
   "metadata": {},
   "source": [
    "The following codes prints all elements that belong to the set"
   ]
  },
  {
   "cell_type": "code",
   "execution_count": 4,
   "metadata": {},
   "outputs": [
    {
     "name": "stdout",
     "output_type": "stream",
     "text": [
      "1 3 4 8 "
     ]
    }
   ],
   "source": [
    "for(int i=0;i<32;i++){\n",
    "    if(x&(1<<i))\n",
    "        cout << i << \" \";\n",
    "}"
   ]
  },
  {
   "cell_type": "markdown",
   "metadata": {},
   "source": [
    "<h3> Implementing set operations as bit operations</h3>"
   ]
  },
  {
   "cell_type": "markdown",
   "metadata": {},
   "source": [
    "| Operation  | Set syntax  | Bit syntax  |\n",
    "|------------|-------------|-------------|\n",
    "|Intersection| a $\\cap$ b  | a & b  |\n",
    "|Union       | a $\\cup$ b  | a | b  | \n",
    "|Complement  | ã | ~a | \n",
    "|Difference  | a \\ b | a & (~b)  | "
   ]
  },
  {
   "cell_type": "markdown",
   "metadata": {},
   "source": [
    "<h2> C++ Bitset </h2>"
   ]
  },
  {
   "cell_type": "code",
   "execution_count": 5,
   "metadata": {},
   "outputs": [
    {
     "name": "stdout",
     "output_type": "stream",
     "text": [
      "1\n",
      "0\n"
     ]
    }
   ],
   "source": [
    "bitset<10> s;\n",
    "s[1] = 1;\n",
    "s[3] = 1;\n",
    "s[4] = 1;\n",
    "s[7] = 1;\n",
    "cout << s[4] << endl;\n",
    "cout << s[5] << endl;"
   ]
  },
  {
   "cell_type": "code",
   "execution_count": 10,
   "metadata": {},
   "outputs": [
    {
     "name": "stdout",
     "output_type": "stream",
     "text": [
      "4"
     ]
    }
   ],
   "source": [
    "cout << s.count();// Print the number of ones in the subset"
   ]
  },
  {
   "cell_type": "code",
   "execution_count": null,
   "metadata": {},
   "outputs": [],
   "source": [
    "bitset<10> a,b;\n",
    "//...\n",
    "bitset<10> c = a&b; // And operation\n",
    "bitset<10> d = a|b; // Or operation\n",
    "bitset<10> e = a^b; // Xor operation"
   ]
  },
  {
   "cell_type": "code",
   "execution_count": null,
   "metadata": {},
   "outputs": [],
   "source": []
  }
 ],
 "metadata": {
  "kernelspec": {
   "display_name": "C++14",
   "language": "C++14",
   "name": "xcpp14"
  },
  "language_info": {
   "codemirror_mode": "text/x-c++src",
   "file_extension": ".cpp",
   "mimetype": "text/x-c++src",
   "name": "c++",
   "version": "14"
  }
 },
 "nbformat": 4,
 "nbformat_minor": 4
}
