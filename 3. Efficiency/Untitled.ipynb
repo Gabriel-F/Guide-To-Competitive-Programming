{
 "cells": [
  {
   "cell_type": "code",
   "execution_count": 1,
   "metadata": {},
   "outputs": [],
   "source": [
    "#include <iostream>\n",
    "#include <algorithm>\n",
    "\n",
    "using namespace std;"
   ]
  },
  {
   "cell_type": "markdown",
   "metadata": {},
   "source": [
    "<h1> Efficency </h1>"
   ]
  },
  {
   "cell_type": "markdown",
   "metadata": {},
   "source": [
    "<h2> Time Complexity </h2>"
   ]
  },
  {
   "cell_type": "markdown",
   "metadata": {},
   "source": [
    "<h3> Examples </h3>"
   ]
  },
  {
   "cell_type": "markdown",
   "metadata": {},
   "source": [
    "_O_(1)"
   ]
  },
  {
   "cell_type": "code",
   "execution_count": null,
   "metadata": {},
   "outputs": [],
   "source": [
    "int a;\n",
    "a++;\n",
    "int c = a + 1;"
   ]
  },
  {
   "cell_type": "markdown",
   "metadata": {},
   "source": [
    "_O_(n)"
   ]
  },
  {
   "cell_type": "code",
   "execution_count": null,
   "metadata": {},
   "outputs": [],
   "source": [
    "for(int i = 0; i < n; i ++){\n",
    "    //...\n",
    "}"
   ]
  },
  {
   "cell_type": "markdown",
   "metadata": {},
   "source": [
    "_O_($n^{2}$)"
   ]
  },
  {
   "cell_type": "code",
   "execution_count": null,
   "metadata": {},
   "outputs": [],
   "source": [
    "for(int i = 0; i < n; i++){\n",
    "    for(int j=0; j < m; j++){\n",
    "        //...\n",
    "    }\n",
    "}"
   ]
  },
  {
   "cell_type": "code",
   "execution_count": null,
   "metadata": {},
   "outputs": [],
   "source": [
    "for(int i = 0; i < n; i++){\n",
    "    for(int j=0; j < i; j++){\n",
    "        //...\n",
    "    }\n",
    "}"
   ]
  },
  {
   "cell_type": "markdown",
   "metadata": {},
   "source": [
    "<h4> Recursion </h4>"
   ]
  },
  {
   "cell_type": "markdown",
   "metadata": {},
   "source": [
    "_O_(n)"
   ]
  },
  {
   "cell_type": "code",
   "execution_count": null,
   "metadata": {},
   "outputs": [],
   "source": [
    "void f(int n){\n",
    "    if(n == 1) return;\n",
    "    f(n-1);\n",
    "}"
   ]
  },
  {
   "cell_type": "code",
   "execution_count": null,
   "metadata": {},
   "outputs": [],
   "source": [
    "void g(int n){\n",
    "    if(n == 1) return;\n",
    "    g(n-1);\n",
    "    g(n-1);\n",
    "}"
   ]
  },
  {
   "cell_type": "markdown",
   "metadata": {},
   "source": [
    "Function above, first, there are two calls with parameter (n-1), then four calls with (n-2), then eight calls with (n-3) and so on.\n",
    "\n",
    "$1 + 2 + 4 + ... + 2^{n-1} = 2^n -1$ = _O_($2^{n}$)"
   ]
  },
  {
   "cell_type": "markdown",
   "metadata": {},
   "source": []
  },
  {
   "cell_type": "markdown",
   "metadata": {},
   "source": [
    "<h2> Examples </h2>"
   ]
  },
  {
   "cell_type": "markdown",
   "metadata": {},
   "source": [
    "This section will show different ways to solve a problem. Start with simple brute force,and then create more efficient solutions by using various algorithm design ideas"
   ]
  },
  {
   "cell_type": "markdown",
   "metadata": {},
   "source": [
    "<h3> Maximum Subarray Sum </h3>"
   ]
  },
  {
   "cell_type": "markdown",
   "metadata": {},
   "source": [
    "Problem Statement:\n",
    "Given an array of n numbers, our first task is to calculate the maximum subarray sum, i.e, the largest possible sum of a sequence of consecutive values in the array."
   ]
  },
  {
   "cell_type": "markdown",
   "metadata": {},
   "source": [
    "For example:\n",
    "A =  [-1 , 2 , 4 , -3 , 5 , 2 , -5 , 2]\n",
    "A' = [-1 , **2 , 4 , -3 , 5 , 2** , -5 , 2]"
   ]
  },
  {
   "cell_type": "code",
   "execution_count": 2,
   "metadata": {},
   "outputs": [],
   "source": [
    "int arr[8] = {-1,2,4,-3,5,2,-5,2};\n",
    "int n = 8;\n",
    "int best = 0;"
   ]
  },
  {
   "cell_type": "markdown",
   "metadata": {},
   "source": [
    "**_O_($n^{3}$) Time Solution**\n",
    "A straightforward way to solve the problem is to go through all possible subarrays, calculate the sum of values in each subarray and maintain the maximum sum. The following code implements this algorithm."
   ]
  },
  {
   "cell_type": "code",
   "execution_count": null,
   "metadata": {},
   "outputs": [],
   "source": [
    "for(int a = 0; a < n; a++){\n",
    "    for(int b = a; b < n; b++){\n",
    "        int sum = 0;\n",
    "        for(int k = a; k <= b; k++){\n",
    "            sum += arr[k];\n",
    "        }\n",
    "        best = max(best,sum);\n",
    "    }\n",
    "}\n",
    "cout << best << endl;"
   ]
  },
  {
   "cell_type": "markdown",
   "metadata": {},
   "source": [
    "_a_ fix the first index and _b_ fix the last index, and calculate sum iterating over _arr_ on _k_ index"
   ]
  },
  {
   "cell_type": "markdown",
   "metadata": {},
   "source": [
    "**_O_($n^{2}) Time Solution**\n",
    "Removing the loop which controls the end of subarray, and testing the best sum while iterate"
   ]
  },
  {
   "cell_type": "code",
   "execution_count": null,
   "metadata": {},
   "outputs": [],
   "source": [
    "for(int a = 0; a < n; a++){\n",
    "    int sum = 0;\n",
    "    for(int b = a; b < n; b++){\n",
    "        sum += arr[b];\n",
    "        best = max(best,sum); //Testing if it is the sum\n",
    "    }\n",
    "}\n",
    "cout << best << endl;"
   ]
  },
  {
   "cell_type": "markdown",
   "metadata": {},
   "source": [
    "**_O_(n) Time Solution** (Brilliant)\n",
    "\n",
    "Idea: Calculate, for each array position, the maximum sum of a subarray that ends at that posisition.\n",
    "\n",
    "Consider the subproblem of finding the maximum-sum suarray that ends at position k. There are two possibilities:\n",
    "\n",
    "1. The subarray only contains the element at position k.\n",
    "2. The subarray consists of a subarray that ends at position k-1, followed by the element at position k.\n",
    "\n"
   ]
  },
  {
   "cell_type": "code",
   "execution_count": 3,
   "metadata": {},
   "outputs": [
    {
     "name": "stdout",
     "output_type": "stream",
     "text": [
      "10\n"
     ]
    }
   ],
   "source": [
    "int sum = 0;\n",
    "for(int k = 0; k < n; k++){\n",
    "    sum = max(arr[k],sum+arr[k]); // Testa 1. e 2.\n",
    "    best = max(best,sum);\n",
    "}\n",
    "cout << best << endl;"
   ]
  },
  {
   "cell_type": "markdown",
   "metadata": {},
   "source": [
    "Basically if the max is arr[k] the algorithm \"discard\" the previous sums\n",
    "And mantain the best updated"
   ]
  },
  {
   "cell_type": "code",
   "execution_count": null,
   "metadata": {},
   "outputs": [],
   "source": []
  }
 ],
 "metadata": {
  "kernelspec": {
   "display_name": "C++14",
   "language": "C++14",
   "name": "xcpp14"
  },
  "language_info": {
   "codemirror_mode": "text/x-c++src",
   "file_extension": ".cpp",
   "mimetype": "text/x-c++src",
   "name": "c++",
   "version": "14"
  }
 },
 "nbformat": 4,
 "nbformat_minor": 4
}
